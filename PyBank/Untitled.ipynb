{
 "cells": [
  {
   "cell_type": "code",
   "execution_count": 6,
   "metadata": {},
   "outputs": [
    {
     "name": "stdout",
     "output_type": "stream",
     "text": [
      "Total months: 86\n",
      "Total: 38382578\n"
     ]
    }
   ],
   "source": [
    "import pandas as pd \n",
    "\n",
    "# set file path and read content\n",
    "filepath = 'Resources/budget_data.csv'\n",
    "budget_df = pd.read_csv(filepath)\n",
    "budget_df\n",
    "\n",
    "total_months = len(budget_df.index) #budget_df.['Date'].count\n",
    "# total_months\n",
    "print(f\"Total months: {total_months}\")\n",
    "\n",
    "Total = budget_df['Profit/Losses'].sum()\n",
    "# total_revenue = budget_df.sum(axis=1, skipna=True)\n",
    "# total_revenue\n",
    "# print(f\"Totals: {total_revenue}\")\n",
    "print(f\"Total: {Total}\")"
   ]
  },
  {
   "cell_type": "code",
   "execution_count": null,
   "metadata": {},
   "outputs": [],
   "source": []
  },
  {
   "cell_type": "code",
   "execution_count": null,
   "metadata": {},
   "outputs": [],
   "source": []
  }
 ],
 "metadata": {
  "kernelspec": {
   "display_name": "Python 3",
   "language": "python",
   "name": "python3"
  },
  "language_info": {
   "codemirror_mode": {
    "name": "ipython",
    "version": 3
   },
   "file_extension": ".py",
   "mimetype": "text/x-python",
   "name": "python",
   "nbconvert_exporter": "python",
   "pygments_lexer": "ipython3",
   "version": "3.8.3"
  }
 },
 "nbformat": 4,
 "nbformat_minor": 4
}
